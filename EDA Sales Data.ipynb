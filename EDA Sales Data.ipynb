{
 "cells": [
  {
   "cell_type": "markdown",
   "id": "61c174f6",
   "metadata": {},
   "source": [
    "# Exploratory Data Analysis of Sales Data"
   ]
  },
  {
   "cell_type": "markdown",
   "id": "ee5032c2",
   "metadata": {},
   "source": [
    "Objective: Discover any patterns in the selling structure and profit earned "
   ]
  },
  {
   "cell_type": "code",
   "execution_count": 73,
   "id": "2c6376bd",
   "metadata": {},
   "outputs": [],
   "source": [
    "import pandas as pd\n",
    "import numpy as np\n",
    "from matplotlib import pyplot as plt"
   ]
  },
  {
   "cell_type": "code",
   "execution_count": 3,
   "id": "58e275c6",
   "metadata": {},
   "outputs": [],
   "source": [
    "df = pd.read_csv('Salesstore.csv')"
   ]
  },
  {
   "cell_type": "code",
   "execution_count": 4,
   "id": "2f85b467",
   "metadata": {},
   "outputs": [
    {
     "name": "stdout",
     "output_type": "stream",
     "text": [
      "<class 'pandas.core.frame.DataFrame'>\n",
      "RangeIndex: 730 entries, 0 to 729\n",
      "Data columns (total 13 columns):\n",
      " #   Column                Non-Null Count  Dtype  \n",
      "---  ------                --------------  -----  \n",
      " 0   Order_ID              730 non-null    int64  \n",
      " 1   Order_Priority        730 non-null    object \n",
      " 2   Order_Quantity        730 non-null    int64  \n",
      " 3   Sales                 730 non-null    float64\n",
      " 4   Ship_Mode             730 non-null    object \n",
      " 5   Profit                730 non-null    float64\n",
      " 6   Customer_Name         730 non-null    object \n",
      " 7   Region                730 non-null    object \n",
      " 8   Customer_Segment      730 non-null    object \n",
      " 9   Product_Category      730 non-null    object \n",
      " 10  Product_Sub-Category  730 non-null    object \n",
      " 11  Product_Name          730 non-null    object \n",
      " 12  Product_Container     730 non-null    object \n",
      "dtypes: float64(2), int64(2), object(9)\n",
      "memory usage: 74.3+ KB\n"
     ]
    }
   ],
   "source": [
    "df.info()"
   ]
  },
  {
   "cell_type": "code",
   "execution_count": 5,
   "id": "45ba802d",
   "metadata": {},
   "outputs": [
    {
     "data": {
      "text/html": [
       "<div>\n",
       "<style scoped>\n",
       "    .dataframe tbody tr th:only-of-type {\n",
       "        vertical-align: middle;\n",
       "    }\n",
       "\n",
       "    .dataframe tbody tr th {\n",
       "        vertical-align: top;\n",
       "    }\n",
       "\n",
       "    .dataframe thead th {\n",
       "        text-align: right;\n",
       "    }\n",
       "</style>\n",
       "<table border=\"1\" class=\"dataframe\">\n",
       "  <thead>\n",
       "    <tr style=\"text-align: right;\">\n",
       "      <th></th>\n",
       "      <th>Order_ID</th>\n",
       "      <th>Order_Quantity</th>\n",
       "      <th>Sales</th>\n",
       "      <th>Profit</th>\n",
       "    </tr>\n",
       "  </thead>\n",
       "  <tbody>\n",
       "    <tr>\n",
       "      <th>count</th>\n",
       "      <td>730.000000</td>\n",
       "      <td>730.000000</td>\n",
       "      <td>730.000000</td>\n",
       "      <td>730.000000</td>\n",
       "    </tr>\n",
       "    <tr>\n",
       "      <th>mean</th>\n",
       "      <td>29721.597260</td>\n",
       "      <td>24.857534</td>\n",
       "      <td>1502.777653</td>\n",
       "      <td>207.479233</td>\n",
       "    </tr>\n",
       "    <tr>\n",
       "      <th>std</th>\n",
       "      <td>17350.560439</td>\n",
       "      <td>14.182970</td>\n",
       "      <td>2893.936648</td>\n",
       "      <td>878.631028</td>\n",
       "    </tr>\n",
       "    <tr>\n",
       "      <th>min</th>\n",
       "      <td>35.000000</td>\n",
       "      <td>1.000000</td>\n",
       "      <td>8.600000</td>\n",
       "      <td>-4437.910000</td>\n",
       "    </tr>\n",
       "    <tr>\n",
       "      <th>25%</th>\n",
       "      <td>14479.000000</td>\n",
       "      <td>13.000000</td>\n",
       "      <td>171.098375</td>\n",
       "      <td>-77.132500</td>\n",
       "    </tr>\n",
       "    <tr>\n",
       "      <th>50%</th>\n",
       "      <td>29350.500000</td>\n",
       "      <td>25.000000</td>\n",
       "      <td>438.700000</td>\n",
       "      <td>0.035000</td>\n",
       "    </tr>\n",
       "    <tr>\n",
       "      <th>75%</th>\n",
       "      <td>44978.500000</td>\n",
       "      <td>37.000000</td>\n",
       "      <td>1480.855000</td>\n",
       "      <td>180.000000</td>\n",
       "    </tr>\n",
       "    <tr>\n",
       "      <th>max</th>\n",
       "      <td>59909.000000</td>\n",
       "      <td>50.000000</td>\n",
       "      <td>27663.920000</td>\n",
       "      <td>8417.570000</td>\n",
       "    </tr>\n",
       "  </tbody>\n",
       "</table>\n",
       "</div>"
      ],
      "text/plain": [
       "           Order_ID  Order_Quantity         Sales       Profit\n",
       "count    730.000000      730.000000    730.000000   730.000000\n",
       "mean   29721.597260       24.857534   1502.777653   207.479233\n",
       "std    17350.560439       14.182970   2893.936648   878.631028\n",
       "min       35.000000        1.000000      8.600000 -4437.910000\n",
       "25%    14479.000000       13.000000    171.098375   -77.132500\n",
       "50%    29350.500000       25.000000    438.700000     0.035000\n",
       "75%    44978.500000       37.000000   1480.855000   180.000000\n",
       "max    59909.000000       50.000000  27663.920000  8417.570000"
      ]
     },
     "execution_count": 5,
     "metadata": {},
     "output_type": "execute_result"
    }
   ],
   "source": [
    "df.describe()"
   ]
  },
  {
   "cell_type": "code",
   "execution_count": 8,
   "id": "00e01503",
   "metadata": {},
   "outputs": [
    {
     "data": {
      "text/plain": [
       "Order_ID                0\n",
       "Order_Priority          0\n",
       "Order_Quantity          0\n",
       "Sales                   0\n",
       "Ship_Mode               0\n",
       "Profit                  0\n",
       "Customer_Name           0\n",
       "Region                  0\n",
       "Customer_Segment        0\n",
       "Product_Category        0\n",
       "Product_Sub-Category    0\n",
       "Product_Name            0\n",
       "Product_Container       0\n",
       "dtype: int64"
      ]
     },
     "execution_count": 8,
     "metadata": {},
     "output_type": "execute_result"
    }
   ],
   "source": [
    "df.isnull().sum()"
   ]
  },
  {
   "cell_type": "code",
   "execution_count": 9,
   "id": "bf0037af",
   "metadata": {},
   "outputs": [
    {
     "data": {
      "text/html": [
       "<div>\n",
       "<style scoped>\n",
       "    .dataframe tbody tr th:only-of-type {\n",
       "        vertical-align: middle;\n",
       "    }\n",
       "\n",
       "    .dataframe tbody tr th {\n",
       "        vertical-align: top;\n",
       "    }\n",
       "\n",
       "    .dataframe thead th {\n",
       "        text-align: right;\n",
       "    }\n",
       "</style>\n",
       "<table border=\"1\" class=\"dataframe\">\n",
       "  <thead>\n",
       "    <tr style=\"text-align: right;\">\n",
       "      <th></th>\n",
       "      <th>Order_ID</th>\n",
       "      <th>Order_Priority</th>\n",
       "      <th>Order_Quantity</th>\n",
       "      <th>Sales</th>\n",
       "      <th>Ship_Mode</th>\n",
       "      <th>Profit</th>\n",
       "      <th>Customer_Name</th>\n",
       "      <th>Region</th>\n",
       "      <th>Customer_Segment</th>\n",
       "      <th>Product_Category</th>\n",
       "      <th>Product_Sub-Category</th>\n",
       "      <th>Product_Name</th>\n",
       "      <th>Product_Container</th>\n",
       "    </tr>\n",
       "  </thead>\n",
       "  <tbody>\n",
       "    <tr>\n",
       "      <th>0</th>\n",
       "      <td>643</td>\n",
       "      <td>High</td>\n",
       "      <td>21</td>\n",
       "      <td>2781.82</td>\n",
       "      <td>Express Air</td>\n",
       "      <td>-695.26</td>\n",
       "      <td>Monica Federle</td>\n",
       "      <td>Nunavut</td>\n",
       "      <td>Corporate</td>\n",
       "      <td>Office Supplies</td>\n",
       "      <td>Storage &amp; Organization</td>\n",
       "      <td>SAFCO Commercial Wire Shelving, Black</td>\n",
       "      <td>Large Box</td>\n",
       "    </tr>\n",
       "    <tr>\n",
       "      <th>1</th>\n",
       "      <td>8995</td>\n",
       "      <td>High</td>\n",
       "      <td>35</td>\n",
       "      <td>3389.93</td>\n",
       "      <td>Express Air</td>\n",
       "      <td>737.94</td>\n",
       "      <td>Beth Paige</td>\n",
       "      <td>Northwest Territories</td>\n",
       "      <td>Consumer</td>\n",
       "      <td>Furniture</td>\n",
       "      <td>Office Furnishings</td>\n",
       "      <td>Luxo Professional Combination Clamp-On Lamps</td>\n",
       "      <td>Large Box</td>\n",
       "    </tr>\n",
       "    <tr>\n",
       "      <th>2</th>\n",
       "      <td>9127</td>\n",
       "      <td>Not Specified</td>\n",
       "      <td>7</td>\n",
       "      <td>2039.56</td>\n",
       "      <td>Express Air</td>\n",
       "      <td>-329.49</td>\n",
       "      <td>Bryan Davis</td>\n",
       "      <td>Northwest Territories</td>\n",
       "      <td>Corporate</td>\n",
       "      <td>Office Supplies</td>\n",
       "      <td>Storage &amp; Organization</td>\n",
       "      <td>Tennsco Snap-Together Open Shelving Units, Sta...</td>\n",
       "      <td>Large Box</td>\n",
       "    </tr>\n",
       "    <tr>\n",
       "      <th>3</th>\n",
       "      <td>26272</td>\n",
       "      <td>Low</td>\n",
       "      <td>6</td>\n",
       "      <td>905.94</td>\n",
       "      <td>Express Air</td>\n",
       "      <td>-4.19</td>\n",
       "      <td>Carlos Daly</td>\n",
       "      <td>Northwest Territories</td>\n",
       "      <td>Home Office</td>\n",
       "      <td>Furniture</td>\n",
       "      <td>Chairs &amp; Chairmats</td>\n",
       "      <td>Hon Olson Stacker Stools</td>\n",
       "      <td>Large Box</td>\n",
       "    </tr>\n",
       "    <tr>\n",
       "      <th>4</th>\n",
       "      <td>36646</td>\n",
       "      <td>Medium</td>\n",
       "      <td>24</td>\n",
       "      <td>1168.15</td>\n",
       "      <td>Express Air</td>\n",
       "      <td>-743.96</td>\n",
       "      <td>Muhammed MacIntyre</td>\n",
       "      <td>Northwest Territories</td>\n",
       "      <td>Small Business</td>\n",
       "      <td>Office Supplies</td>\n",
       "      <td>Storage &amp; Organization</td>\n",
       "      <td>Tennsco Industrial Shelving</td>\n",
       "      <td>Large Box</td>\n",
       "    </tr>\n",
       "  </tbody>\n",
       "</table>\n",
       "</div>"
      ],
      "text/plain": [
       "   Order_ID Order_Priority  Order_Quantity    Sales    Ship_Mode  Profit  \\\n",
       "0       643           High              21  2781.82  Express Air -695.26   \n",
       "1      8995           High              35  3389.93  Express Air  737.94   \n",
       "2      9127  Not Specified               7  2039.56  Express Air -329.49   \n",
       "3     26272            Low               6   905.94  Express Air   -4.19   \n",
       "4     36646         Medium              24  1168.15  Express Air -743.96   \n",
       "\n",
       "        Customer_Name                 Region Customer_Segment  \\\n",
       "0      Monica Federle                Nunavut        Corporate   \n",
       "1          Beth Paige  Northwest Territories         Consumer   \n",
       "2         Bryan Davis  Northwest Territories        Corporate   \n",
       "3         Carlos Daly  Northwest Territories      Home Office   \n",
       "4  Muhammed MacIntyre  Northwest Territories   Small Business   \n",
       "\n",
       "  Product_Category    Product_Sub-Category  \\\n",
       "0  Office Supplies  Storage & Organization   \n",
       "1        Furniture      Office Furnishings   \n",
       "2  Office Supplies  Storage & Organization   \n",
       "3        Furniture      Chairs & Chairmats   \n",
       "4  Office Supplies  Storage & Organization   \n",
       "\n",
       "                                        Product_Name Product_Container  \n",
       "0              SAFCO Commercial Wire Shelving, Black         Large Box  \n",
       "1       Luxo Professional Combination Clamp-On Lamps         Large Box  \n",
       "2  Tennsco Snap-Together Open Shelving Units, Sta...         Large Box  \n",
       "3                           Hon Olson Stacker Stools         Large Box  \n",
       "4                        Tennsco Industrial Shelving         Large Box  "
      ]
     },
     "execution_count": 9,
     "metadata": {},
     "output_type": "execute_result"
    }
   ],
   "source": [
    "df.head()"
   ]
  },
  {
   "cell_type": "code",
   "execution_count": 10,
   "id": "41df015f",
   "metadata": {},
   "outputs": [
    {
     "data": {
      "text/html": [
       "<div>\n",
       "<style scoped>\n",
       "    .dataframe tbody tr th:only-of-type {\n",
       "        vertical-align: middle;\n",
       "    }\n",
       "\n",
       "    .dataframe tbody tr th {\n",
       "        vertical-align: top;\n",
       "    }\n",
       "\n",
       "    .dataframe thead th {\n",
       "        text-align: right;\n",
       "    }\n",
       "</style>\n",
       "<table border=\"1\" class=\"dataframe\">\n",
       "  <thead>\n",
       "    <tr style=\"text-align: right;\">\n",
       "      <th></th>\n",
       "      <th>Order_ID</th>\n",
       "      <th>Order_Priority</th>\n",
       "      <th>Order_Quantity</th>\n",
       "      <th>Sales</th>\n",
       "      <th>Ship_Mode</th>\n",
       "      <th>Profit</th>\n",
       "      <th>Customer_Name</th>\n",
       "      <th>Region</th>\n",
       "      <th>Customer_Segment</th>\n",
       "      <th>Product_Category</th>\n",
       "      <th>Product_Sub-Category</th>\n",
       "      <th>Product_Name</th>\n",
       "      <th>Product_Container</th>\n",
       "    </tr>\n",
       "  </thead>\n",
       "  <tbody>\n",
       "    <tr>\n",
       "      <th>725</th>\n",
       "      <td>56101</td>\n",
       "      <td>Not Specified</td>\n",
       "      <td>44</td>\n",
       "      <td>5347.13</td>\n",
       "      <td>Regular Air</td>\n",
       "      <td>1886.41</td>\n",
       "      <td>Bill Donatelli</td>\n",
       "      <td>Ontario</td>\n",
       "      <td>Corporate</td>\n",
       "      <td>Office Supplies</td>\n",
       "      <td>Binders and Binder Accessories</td>\n",
       "      <td>GBC Therma-A-Bind 250T Electric Binding System</td>\n",
       "      <td>Small Box</td>\n",
       "    </tr>\n",
       "    <tr>\n",
       "      <th>726</th>\n",
       "      <td>1059</td>\n",
       "      <td>Critical</td>\n",
       "      <td>22</td>\n",
       "      <td>127.33</td>\n",
       "      <td>Regular Air</td>\n",
       "      <td>5.30</td>\n",
       "      <td>Sean O'Donnell</td>\n",
       "      <td>Ontario</td>\n",
       "      <td>Corporate</td>\n",
       "      <td>Office Supplies</td>\n",
       "      <td>Binders and Binder Accessories</td>\n",
       "      <td>Wilson Jones 14 Line Acrylic Coated Pressboard...</td>\n",
       "      <td>Small Box</td>\n",
       "    </tr>\n",
       "    <tr>\n",
       "      <th>727</th>\n",
       "      <td>1059</td>\n",
       "      <td>Critical</td>\n",
       "      <td>24</td>\n",
       "      <td>990.10</td>\n",
       "      <td>Regular Air</td>\n",
       "      <td>310.22</td>\n",
       "      <td>Sean O'Donnell</td>\n",
       "      <td>Ontario</td>\n",
       "      <td>Corporate</td>\n",
       "      <td>Office Supplies</td>\n",
       "      <td>Binders and Binder Accessories</td>\n",
       "      <td>Wilson Jones Ledger-Size, Piano-Hinge Binder, ...</td>\n",
       "      <td>Small Box</td>\n",
       "    </tr>\n",
       "    <tr>\n",
       "      <th>728</th>\n",
       "      <td>1826</td>\n",
       "      <td>Not Specified</td>\n",
       "      <td>5</td>\n",
       "      <td>28.32</td>\n",
       "      <td>Regular Air</td>\n",
       "      <td>-14.35</td>\n",
       "      <td>Susan Vittorini</td>\n",
       "      <td>Ontario</td>\n",
       "      <td>Corporate</td>\n",
       "      <td>Office Supplies</td>\n",
       "      <td>Paper</td>\n",
       "      <td>Hammermill CopyPlus Copy Paper (20Lb. and 84 B...</td>\n",
       "      <td>Small Box</td>\n",
       "    </tr>\n",
       "    <tr>\n",
       "      <th>729</th>\n",
       "      <td>20003</td>\n",
       "      <td>Medium</td>\n",
       "      <td>39</td>\n",
       "      <td>796.08</td>\n",
       "      <td>Regular Air</td>\n",
       "      <td>30.29</td>\n",
       "      <td>Shirley Schmidt</td>\n",
       "      <td>Ontario</td>\n",
       "      <td>Corporate</td>\n",
       "      <td>Technology</td>\n",
       "      <td>Computer Peripherals</td>\n",
       "      <td>Belkin 105-Key Black Keyboard</td>\n",
       "      <td>Small Box</td>\n",
       "    </tr>\n",
       "  </tbody>\n",
       "</table>\n",
       "</div>"
      ],
      "text/plain": [
       "     Order_ID Order_Priority  Order_Quantity    Sales    Ship_Mode   Profit  \\\n",
       "725     56101  Not Specified              44  5347.13  Regular Air  1886.41   \n",
       "726      1059       Critical              22   127.33  Regular Air     5.30   \n",
       "727      1059       Critical              24   990.10  Regular Air   310.22   \n",
       "728      1826  Not Specified               5    28.32  Regular Air   -14.35   \n",
       "729     20003         Medium              39   796.08  Regular Air    30.29   \n",
       "\n",
       "       Customer_Name   Region Customer_Segment Product_Category  \\\n",
       "725   Bill Donatelli  Ontario        Corporate  Office Supplies   \n",
       "726   Sean O'Donnell  Ontario        Corporate  Office Supplies   \n",
       "727   Sean O'Donnell  Ontario        Corporate  Office Supplies   \n",
       "728  Susan Vittorini  Ontario        Corporate  Office Supplies   \n",
       "729  Shirley Schmidt  Ontario        Corporate       Technology   \n",
       "\n",
       "               Product_Sub-Category  \\\n",
       "725  Binders and Binder Accessories   \n",
       "726  Binders and Binder Accessories   \n",
       "727  Binders and Binder Accessories   \n",
       "728                           Paper   \n",
       "729            Computer Peripherals   \n",
       "\n",
       "                                          Product_Name Product_Container  \n",
       "725     GBC Therma-A-Bind 250T Electric Binding System         Small Box  \n",
       "726  Wilson Jones 14 Line Acrylic Coated Pressboard...         Small Box  \n",
       "727  Wilson Jones Ledger-Size, Piano-Hinge Binder, ...         Small Box  \n",
       "728  Hammermill CopyPlus Copy Paper (20Lb. and 84 B...         Small Box  \n",
       "729                      Belkin 105-Key Black Keyboard         Small Box  "
      ]
     },
     "execution_count": 10,
     "metadata": {},
     "output_type": "execute_result"
    }
   ],
   "source": [
    "df.tail()"
   ]
  },
  {
   "cell_type": "markdown",
   "id": "12522f91",
   "metadata": {},
   "source": [
    "<clear>"
   ]
  },
  {
   "cell_type": "markdown",
   "id": "07dee6aa",
   "metadata": {},
   "source": [
    "## EDA\n",
    "\n",
    "Areas to investigate:\n",
    "1. Sales & Profit by Customer Segment\n",
    "2. Sales & Profit by Regions\n",
    "3. Sales & Profit by Product Category\n",
    "4. Sales & Profit by Product Sub-Category"
   ]
  },
  {
   "cell_type": "markdown",
   "id": "a4169d05",
   "metadata": {},
   "source": [
    "### 1. Sales & Profit by Customer Segment"
   ]
  },
  {
   "cell_type": "code",
   "execution_count": 37,
   "id": "3ee5b05a",
   "metadata": {
    "scrolled": true
   },
   "outputs": [
    {
     "data": {
      "text/plain": [
       "Customer_Segment\n",
       "Consumer          153\n",
       "Corporate         518\n",
       "Home Office        31\n",
       "Small Business     28\n",
       "dtype: int64"
      ]
     },
     "execution_count": 37,
     "metadata": {},
     "output_type": "execute_result"
    }
   ],
   "source": [
    "cstm_sgmt = df.groupby(['Customer_Segment'])\n",
    "cstm_sgmt.size()"
   ]
  },
  {
   "cell_type": "code",
   "execution_count": 69,
   "id": "30fd192b",
   "metadata": {},
   "outputs": [
    {
     "data": {
      "text/html": [
       "<div>\n",
       "<style scoped>\n",
       "    .dataframe tbody tr th:only-of-type {\n",
       "        vertical-align: middle;\n",
       "    }\n",
       "\n",
       "    .dataframe tbody tr th {\n",
       "        vertical-align: top;\n",
       "    }\n",
       "\n",
       "    .dataframe thead th {\n",
       "        text-align: right;\n",
       "    }\n",
       "</style>\n",
       "<table border=\"1\" class=\"dataframe\">\n",
       "  <thead>\n",
       "    <tr style=\"text-align: right;\">\n",
       "      <th></th>\n",
       "      <th>Sales</th>\n",
       "      <th>Profit</th>\n",
       "    </tr>\n",
       "    <tr>\n",
       "      <th>Customer_Segment</th>\n",
       "      <th></th>\n",
       "      <th></th>\n",
       "    </tr>\n",
       "  </thead>\n",
       "  <tbody>\n",
       "    <tr>\n",
       "      <th>Consumer</th>\n",
       "      <td>186041.2210</td>\n",
       "      <td>18641.47</td>\n",
       "    </tr>\n",
       "    <tr>\n",
       "      <th>Corporate</th>\n",
       "      <td>805343.1240</td>\n",
       "      <td>120106.44</td>\n",
       "    </tr>\n",
       "    <tr>\n",
       "      <th>Home Office</th>\n",
       "      <td>70363.1295</td>\n",
       "      <td>11619.34</td>\n",
       "    </tr>\n",
       "    <tr>\n",
       "      <th>Small Business</th>\n",
       "      <td>35280.2125</td>\n",
       "      <td>1092.59</td>\n",
       "    </tr>\n",
       "  </tbody>\n",
       "</table>\n",
       "</div>"
      ],
      "text/plain": [
       "                        Sales     Profit\n",
       "Customer_Segment                        \n",
       "Consumer          186041.2210   18641.47\n",
       "Corporate         805343.1240  120106.44\n",
       "Home Office        70363.1295   11619.34\n",
       "Small Business     35280.2125    1092.59"
      ]
     },
     "execution_count": 69,
     "metadata": {},
     "output_type": "execute_result"
    }
   ],
   "source": [
    "csgmt = cstm_sgmt[['Sales', 'Profit']].sum()\n",
    "\n",
    "csgmt"
   ]
  },
  {
   "cell_type": "code",
   "execution_count": 126,
   "id": "a059bc25",
   "metadata": {},
   "outputs": [
    {
     "data": {
      "image/png": "[encoded data removed]",
      "text/plain": [
       "<Figure size 720x288 with 1 Axes>"
      ]
     },
     "metadata": {
      "needs_background": "light"
     },
     "output_type": "display_data"
    }
   ],
   "source": [
    "csgmt.plot.bar(figsize=(10,4))\n",
    "plt.ylabel('Value (in Canadian Dollars)')\n",
    "plt.title('Sales & Profit by Customer Segment')\n",
    "plt.xticks(rotation='horizontal')\n",
    "plt.show()"
   ]
  },
  {
   "cell_type": "markdown",
   "id": "9bfe9442",
   "metadata": {},
   "source": [
    "#### Corporate customers generated the most sales and porfit for the store."
   ]
  },
  {
   "cell_type": "markdown",
   "id": "8d6a9972",
   "metadata": {},
   "source": [
    "### 2. Sales & Profit by Region"
   ]
  },
  {
   "cell_type": "code",
   "execution_count": 45,
   "id": "bb674e2e",
   "metadata": {},
   "outputs": [
    {
     "data": {
      "text/plain": [
       "Region\n",
       "Atlantic                 170\n",
       "Northwest Territories    150\n",
       "Nunavut                   32\n",
       "Ontario                   67\n",
       "Prarie                    79\n",
       "West                     232\n",
       "dtype: int64"
      ]
     },
     "execution_count": 45,
     "metadata": {},
     "output_type": "execute_result"
    }
   ],
   "source": [
    "rgn = df.groupby(['Region'])\n",
    "rgn.size()"
   ]
  },
  {
   "cell_type": "code",
   "execution_count": 76,
   "id": "ff34f2ab",
   "metadata": {},
   "outputs": [
    {
     "data": {
      "text/html": [
       "<div>\n",
       "<style scoped>\n",
       "    .dataframe tbody tr th:only-of-type {\n",
       "        vertical-align: middle;\n",
       "    }\n",
       "\n",
       "    .dataframe tbody tr th {\n",
       "        vertical-align: top;\n",
       "    }\n",
       "\n",
       "    .dataframe thead th {\n",
       "        text-align: right;\n",
       "    }\n",
       "</style>\n",
       "<table border=\"1\" class=\"dataframe\">\n",
       "  <thead>\n",
       "    <tr style=\"text-align: right;\">\n",
       "      <th></th>\n",
       "      <th>Sales</th>\n",
       "      <th>Profit</th>\n",
       "    </tr>\n",
       "    <tr>\n",
       "      <th>Region</th>\n",
       "      <th></th>\n",
       "      <th></th>\n",
       "    </tr>\n",
       "  </thead>\n",
       "  <tbody>\n",
       "    <tr>\n",
       "      <th>Atlantic</th>\n",
       "      <td>271205.1010</td>\n",
       "      <td>28393.28</td>\n",
       "    </tr>\n",
       "    <tr>\n",
       "      <th>Northwest Territories</th>\n",
       "      <td>275140.7555</td>\n",
       "      <td>59551.86</td>\n",
       "    </tr>\n",
       "    <tr>\n",
       "      <th>Nunavut</th>\n",
       "      <td>36306.4980</td>\n",
       "      <td>780.71</td>\n",
       "    </tr>\n",
       "    <tr>\n",
       "      <th>Ontario</th>\n",
       "      <td>81727.7725</td>\n",
       "      <td>16375.46</td>\n",
       "    </tr>\n",
       "    <tr>\n",
       "      <th>Prarie</th>\n",
       "      <td>86646.1360</td>\n",
       "      <td>6944.32</td>\n",
       "    </tr>\n",
       "    <tr>\n",
       "      <th>West</th>\n",
       "      <td>346001.4240</td>\n",
       "      <td>39414.21</td>\n",
       "    </tr>\n",
       "  </tbody>\n",
       "</table>\n",
       "</div>"
      ],
      "text/plain": [
       "                             Sales    Profit\n",
       "Region                                      \n",
       "Atlantic               271205.1010  28393.28\n",
       "Northwest Territories  275140.7555  59551.86\n",
       "Nunavut                 36306.4980    780.71\n",
       "Ontario                 81727.7725  16375.46\n",
       "Prarie                  86646.1360   6944.32\n",
       "West                   346001.4240  39414.21"
      ]
     },
     "execution_count": 76,
     "metadata": {},
     "output_type": "execute_result"
    }
   ],
   "source": [
    "by_rgn = rgn[['Sales', 'Profit']].sum()\n",
    "\n",
    "by_rgn"
   ]
  },
  {
   "cell_type": "code",
   "execution_count": 123,
   "id": "fe8c51f7",
   "metadata": {},
   "outputs": [
    {
     "data": {
      "image/png": "[encoded data removed]",
      "text/plain": [
       "<Figure size 720x288 with 1 Axes>"
      ]
     },
     "metadata": {
      "needs_background": "light"
     },
     "output_type": "display_data"
    }
   ],
   "source": [
    "by_rgn.plot.bar(figsize=(10,4))\n",
    "plt.xlabel('Regions in Canada')\n",
    "plt.ylabel('Value (in Canadian Dollars)')\n",
    "plt.title('Sales & Profit by Region')\n",
    "plt.xticks(rotation='horizontal')\n",
    "plt.show()"
   ]
  },
  {
   "cell_type": "markdown",
   "id": "cf356dd4",
   "metadata": {},
   "source": [
    "#### Northwest Territories generated the most profit for the store amongst the different regions."
   ]
  },
  {
   "cell_type": "markdown",
   "id": "03ab1c65",
   "metadata": {},
   "source": [
    "#### The West territory generated the most sales for the store amongst the different regions."
   ]
  },
  {
   "cell_type": "markdown",
   "id": "d983370e",
   "metadata": {},
   "source": [
    "<clear>"
   ]
  },
  {
   "cell_type": "markdown",
   "id": "eea487da",
   "metadata": {},
   "source": [
    "### 3 & 4. Sales & Profit by Product Category and Product Sub-Category"
   ]
  },
  {
   "cell_type": "code",
   "execution_count": 63,
   "id": "e399a219",
   "metadata": {},
   "outputs": [],
   "source": [
    "cols = ['Product_Category', 'Product_Sub-Category']    "
   ]
  },
  {
   "cell_type": "code",
   "execution_count": 68,
   "id": "6e2b8982",
   "metadata": {},
   "outputs": [
    {
     "data": {
      "text/html": [
       "<div>\n",
       "<style scoped>\n",
       "    .dataframe tbody tr th:only-of-type {\n",
       "        vertical-align: middle;\n",
       "    }\n",
       "\n",
       "    .dataframe tbody tr th {\n",
       "        vertical-align: top;\n",
       "    }\n",
       "\n",
       "    .dataframe thead th {\n",
       "        text-align: right;\n",
       "    }\n",
       "</style>\n",
       "<table border=\"1\" class=\"dataframe\">\n",
       "  <thead>\n",
       "    <tr style=\"text-align: right;\">\n",
       "      <th></th>\n",
       "      <th></th>\n",
       "      <th>Sales</th>\n",
       "      <th>Profit</th>\n",
       "    </tr>\n",
       "    <tr>\n",
       "      <th>Product_Category</th>\n",
       "      <th>Product_Sub-Category</th>\n",
       "      <th></th>\n",
       "      <th></th>\n",
       "    </tr>\n",
       "  </thead>\n",
       "  <tbody>\n",
       "    <tr>\n",
       "      <th rowspan=\"3\" valign=\"top\">Furniture</th>\n",
       "      <th>Chairs &amp; Chairmats</th>\n",
       "      <td>46081.410</td>\n",
       "      <td>12164.94</td>\n",
       "    </tr>\n",
       "    <tr>\n",
       "      <th>Office Furnishings</th>\n",
       "      <td>82682.300</td>\n",
       "      <td>8700.26</td>\n",
       "    </tr>\n",
       "    <tr>\n",
       "      <th>Tables</th>\n",
       "      <td>23049.830</td>\n",
       "      <td>-3847.36</td>\n",
       "    </tr>\n",
       "    <tr>\n",
       "      <th rowspan=\"8\" valign=\"top\">Office Supplies</th>\n",
       "      <th>Appliances</th>\n",
       "      <td>97805.160</td>\n",
       "      <td>22731.86</td>\n",
       "    </tr>\n",
       "    <tr>\n",
       "      <th>Binders and Binder Accessories</th>\n",
       "      <td>106501.690</td>\n",
       "      <td>26291.74</td>\n",
       "    </tr>\n",
       "    <tr>\n",
       "      <th>Envelopes</th>\n",
       "      <td>21486.180</td>\n",
       "      <td>6049.97</td>\n",
       "    </tr>\n",
       "    <tr>\n",
       "      <th>Labels</th>\n",
       "      <td>3494.690</td>\n",
       "      <td>1296.60</td>\n",
       "    </tr>\n",
       "    <tr>\n",
       "      <th>Paper</th>\n",
       "      <td>48963.040</td>\n",
       "      <td>3124.64</td>\n",
       "    </tr>\n",
       "    <tr>\n",
       "      <th>Pens &amp; Art Supplies</th>\n",
       "      <td>679.950</td>\n",
       "      <td>-93.30</td>\n",
       "    </tr>\n",
       "    <tr>\n",
       "      <th>Scissors, Rulers and Trimmers</th>\n",
       "      <td>9620.820</td>\n",
       "      <td>-1759.58</td>\n",
       "    </tr>\n",
       "    <tr>\n",
       "      <th>Storage &amp; Organization</th>\n",
       "      <td>94986.810</td>\n",
       "      <td>-4567.98</td>\n",
       "    </tr>\n",
       "    <tr>\n",
       "      <th rowspan=\"4\" valign=\"top\">Technology</th>\n",
       "      <th>Computer Peripherals</th>\n",
       "      <td>65475.000</td>\n",
       "      <td>4982.06</td>\n",
       "    </tr>\n",
       "    <tr>\n",
       "      <th>Copiers and Fax</th>\n",
       "      <td>159614.610</td>\n",
       "      <td>1561.39</td>\n",
       "    </tr>\n",
       "    <tr>\n",
       "      <th>Office Machines</th>\n",
       "      <td>80050.060</td>\n",
       "      <td>26832.43</td>\n",
       "    </tr>\n",
       "    <tr>\n",
       "      <th>Telephones and Communication</th>\n",
       "      <td>256536.137</td>\n",
       "      <td>47992.17</td>\n",
       "    </tr>\n",
       "  </tbody>\n",
       "</table>\n",
       "</div>"
      ],
      "text/plain": [
       "                                                      Sales    Profit\n",
       "Product_Category Product_Sub-Category                                \n",
       "Furniture        Chairs & Chairmats               46081.410  12164.94\n",
       "                 Office Furnishings               82682.300   8700.26\n",
       "                 Tables                           23049.830  -3847.36\n",
       "Office Supplies  Appliances                       97805.160  22731.86\n",
       "                 Binders and Binder Accessories  106501.690  26291.74\n",
       "                 Envelopes                        21486.180   6049.97\n",
       "                 Labels                            3494.690   1296.60\n",
       "                 Paper                            48963.040   3124.64\n",
       "                 Pens & Art Supplies                679.950    -93.30\n",
       "                 Scissors, Rulers and Trimmers     9620.820  -1759.58\n",
       "                 Storage & Organization           94986.810  -4567.98\n",
       "Technology       Computer Peripherals             65475.000   4982.06\n",
       "                 Copiers and Fax                 159614.610   1561.39\n",
       "                 Office Machines                  80050.060  26832.43\n",
       "                 Telephones and Communication    256536.137  47992.17"
      ]
     },
     "execution_count": 68,
     "metadata": {},
     "output_type": "execute_result"
    }
   ],
   "source": [
    "for column in cols:\n",
    "    prdcts = df.groupby(cols)[['Sales', 'Profit']].sum()\n",
    "\n",
    "prdcts"
   ]
  },
  {
   "cell_type": "code",
   "execution_count": 124,
   "id": "93c62547",
   "metadata": {},
   "outputs": [
    {
     "data": {
      "image/png": "[encoded data removed]",
      "text/plain": [
       "<Figure size 720x576 with 1 Axes>"
      ]
     },
     "metadata": {
      "needs_background": "light"
     },
     "output_type": "display_data"
    }
   ],
   "source": [
    "prdcts.plot.bar(figsize=(10,8))\n",
    "\n",
    "plt.xlabel('Product Categories & Sub-Categories')\n",
    "plt.ylabel('Value (in Canadian Dollars)')\n",
    "plt.title('Sales & Profit by Product Categories & Sub-Categories')\n",
    "plt.show()"
   ]
  },
  {
   "cell_type": "markdown",
   "id": "5e0370ac",
   "metadata": {},
   "source": [
    "#### The \"Technology\" Product Category and the \"Telephones and Communication\" sub-category generated the most sales and profit amongst the different categories and sub-categories."
   ]
  },
  {
   "cell_type": "markdown",
   "id": "79f63f16",
   "metadata": {},
   "source": [
    "<clear>"
   ]
  },
  {
   "cell_type": "code",
   "execution_count": 140,
   "id": "f8b9ae41",
   "metadata": {},
   "outputs": [
    {
     "data": {
      "text/html": [
       "<div>\n",
       "<style scoped>\n",
       "    .dataframe tbody tr th:only-of-type {\n",
       "        vertical-align: middle;\n",
       "    }\n",
       "\n",
       "    .dataframe tbody tr th {\n",
       "        vertical-align: top;\n",
       "    }\n",
       "\n",
       "    .dataframe thead th {\n",
       "        text-align: right;\n",
       "    }\n",
       "</style>\n",
       "<table border=\"1\" class=\"dataframe\">\n",
       "  <thead>\n",
       "    <tr style=\"text-align: right;\">\n",
       "      <th></th>\n",
       "      <th></th>\n",
       "      <th>Sales</th>\n",
       "      <th>Profit</th>\n",
       "    </tr>\n",
       "    <tr>\n",
       "      <th>Customer_Segment</th>\n",
       "      <th>Product_Category</th>\n",
       "      <th></th>\n",
       "      <th></th>\n",
       "    </tr>\n",
       "  </thead>\n",
       "  <tbody>\n",
       "    <tr>\n",
       "      <th rowspan=\"3\" valign=\"top\">Consumer</th>\n",
       "      <th>Furniture</th>\n",
       "      <td>26331.2500</td>\n",
       "      <td>-432.49</td>\n",
       "    </tr>\n",
       "    <tr>\n",
       "      <th>Office Supplies</th>\n",
       "      <td>68535.6200</td>\n",
       "      <td>6748.32</td>\n",
       "    </tr>\n",
       "    <tr>\n",
       "      <th>Technology</th>\n",
       "      <td>91174.3510</td>\n",
       "      <td>12325.64</td>\n",
       "    </tr>\n",
       "    <tr>\n",
       "      <th rowspan=\"3\" valign=\"top\">Corporate</th>\n",
       "      <th>Furniture</th>\n",
       "      <td>109817.5200</td>\n",
       "      <td>14911.67</td>\n",
       "    </tr>\n",
       "    <tr>\n",
       "      <th>Office Supplies</th>\n",
       "      <td>273196.7700</td>\n",
       "      <td>41330.09</td>\n",
       "    </tr>\n",
       "    <tr>\n",
       "      <th>Technology</th>\n",
       "      <td>422328.8340</td>\n",
       "      <td>63864.68</td>\n",
       "    </tr>\n",
       "    <tr>\n",
       "      <th rowspan=\"3\" valign=\"top\">Home Office</th>\n",
       "      <th>Furniture</th>\n",
       "      <td>13086.7100</td>\n",
       "      <td>2192.23</td>\n",
       "    </tr>\n",
       "    <tr>\n",
       "      <th>Office Supplies</th>\n",
       "      <td>27007.6100</td>\n",
       "      <td>7333.97</td>\n",
       "    </tr>\n",
       "    <tr>\n",
       "      <th>Technology</th>\n",
       "      <td>30268.8095</td>\n",
       "      <td>2093.14</td>\n",
       "    </tr>\n",
       "    <tr>\n",
       "      <th rowspan=\"3\" valign=\"top\">Small Business</th>\n",
       "      <th>Furniture</th>\n",
       "      <td>2578.0600</td>\n",
       "      <td>346.43</td>\n",
       "    </tr>\n",
       "    <tr>\n",
       "      <th>Office Supplies</th>\n",
       "      <td>14798.3400</td>\n",
       "      <td>-2338.43</td>\n",
       "    </tr>\n",
       "    <tr>\n",
       "      <th>Technology</th>\n",
       "      <td>17903.8125</td>\n",
       "      <td>3084.59</td>\n",
       "    </tr>\n",
       "  </tbody>\n",
       "</table>\n",
       "</div>"
      ],
      "text/plain": [
       "                                         Sales    Profit\n",
       "Customer_Segment Product_Category                       \n",
       "Consumer         Furniture          26331.2500   -432.49\n",
       "                 Office Supplies    68535.6200   6748.32\n",
       "                 Technology         91174.3510  12325.64\n",
       "Corporate        Furniture         109817.5200  14911.67\n",
       "                 Office Supplies   273196.7700  41330.09\n",
       "                 Technology        422328.8340  63864.68\n",
       "Home Office      Furniture          13086.7100   2192.23\n",
       "                 Office Supplies    27007.6100   7333.97\n",
       "                 Technology         30268.8095   2093.14\n",
       "Small Business   Furniture           2578.0600    346.43\n",
       "                 Office Supplies    14798.3400  -2338.43\n",
       "                 Technology         17903.8125   3084.59"
      ]
     },
     "execution_count": 140,
     "metadata": {},
     "output_type": "execute_result"
    }
   ],
   "source": [
    "cstsgm_prdcts = df.groupby(['Customer_Segment', 'Product_Category'])[['Sales', 'Profit']].sum()\n",
    "\n",
    "cstsgm_prdcts"
   ]
  },
  {
   "cell_type": "code",
   "execution_count": 162,
   "id": "a441fa9f",
   "metadata": {},
   "outputs": [
    {
     "data": {
      "image/png": "[encoded data removed]",
      "text/plain": [
       "<Figure size 720x576 with 1 Axes>"
      ]
     },
     "metadata": {
      "needs_background": "light"
     },
     "output_type": "display_data"
    }
   ],
   "source": [
    "cstsgm_prdcts.plot.bar(figsize= (10,8))\n",
    "\n",
    "plt.xlabel('Customer Segments')\n",
    "plt.ylabel('Value (in Canadian Dollars)')\n",
    "plt.title('Sales & Profit by Customer Segment and Product Category')\n",
    "plt.show()"
   ]
  },
  {
   "cell_type": "code",
   "execution_count": 157,
   "id": "2da28a44",
   "metadata": {
    "scrolled": false
   },
   "outputs": [
    {
     "data": {
      "text/html": [
       "<div>\n",
       "<style scoped>\n",
       "    .dataframe tbody tr th:only-of-type {\n",
       "        vertical-align: middle;\n",
       "    }\n",
       "\n",
       "    .dataframe tbody tr th {\n",
       "        vertical-align: top;\n",
       "    }\n",
       "\n",
       "    .dataframe thead th {\n",
       "        text-align: right;\n",
       "    }\n",
       "</style>\n",
       "<table border=\"1\" class=\"dataframe\">\n",
       "  <thead>\n",
       "    <tr style=\"text-align: right;\">\n",
       "      <th></th>\n",
       "      <th></th>\n",
       "      <th>Order_Quantity</th>\n",
       "    </tr>\n",
       "    <tr>\n",
       "      <th>Customer_Segment</th>\n",
       "      <th>Product_Category</th>\n",
       "      <th></th>\n",
       "    </tr>\n",
       "  </thead>\n",
       "  <tbody>\n",
       "    <tr>\n",
       "      <th rowspan=\"3\" valign=\"top\">Consumer</th>\n",
       "      <th>Furniture</th>\n",
       "      <td>507</td>\n",
       "    </tr>\n",
       "    <tr>\n",
       "      <th>Office Supplies</th>\n",
       "      <td>2440</td>\n",
       "    </tr>\n",
       "    <tr>\n",
       "      <th>Technology</th>\n",
       "      <td>772</td>\n",
       "    </tr>\n",
       "    <tr>\n",
       "      <th rowspan=\"3\" valign=\"top\">Corporate</th>\n",
       "      <th>Furniture</th>\n",
       "      <td>1740</td>\n",
       "    </tr>\n",
       "    <tr>\n",
       "      <th>Office Supplies</th>\n",
       "      <td>7599</td>\n",
       "    </tr>\n",
       "    <tr>\n",
       "      <th>Technology</th>\n",
       "      <td>3518</td>\n",
       "    </tr>\n",
       "    <tr>\n",
       "      <th rowspan=\"3\" valign=\"top\">Home Office</th>\n",
       "      <th>Furniture</th>\n",
       "      <td>167</td>\n",
       "    </tr>\n",
       "    <tr>\n",
       "      <th>Office Supplies</th>\n",
       "      <td>473</td>\n",
       "    </tr>\n",
       "    <tr>\n",
       "      <th>Technology</th>\n",
       "      <td>191</td>\n",
       "    </tr>\n",
       "    <tr>\n",
       "      <th rowspan=\"3\" valign=\"top\">Small Business</th>\n",
       "      <th>Furniture</th>\n",
       "      <td>80</td>\n",
       "    </tr>\n",
       "    <tr>\n",
       "      <th>Office Supplies</th>\n",
       "      <td>413</td>\n",
       "    </tr>\n",
       "    <tr>\n",
       "      <th>Technology</th>\n",
       "      <td>246</td>\n",
       "    </tr>\n",
       "  </tbody>\n",
       "</table>\n",
       "</div>"
      ],
      "text/plain": [
       "                                   Order_Quantity\n",
       "Customer_Segment Product_Category                \n",
       "Consumer         Furniture                    507\n",
       "                 Office Supplies             2440\n",
       "                 Technology                   772\n",
       "Corporate        Furniture                   1740\n",
       "                 Office Supplies             7599\n",
       "                 Technology                  3518\n",
       "Home Office      Furniture                    167\n",
       "                 Office Supplies              473\n",
       "                 Technology                   191\n",
       "Small Business   Furniture                     80\n",
       "                 Office Supplies              413\n",
       "                 Technology                   246"
      ]
     },
     "execution_count": 157,
     "metadata": {},
     "output_type": "execute_result"
    }
   ],
   "source": [
    "prdtcs_quantity_cstmsgm = df.groupby(['Customer_Segment', 'Product_Category'])[['Order_Quantity']].sum()\n",
    "\n",
    "prdtcs_quantity_cstmsgm"
   ]
  },
  {
   "cell_type": "code",
   "execution_count": 160,
   "id": "171b12ee",
   "metadata": {},
   "outputs": [
    {
     "data": {
      "text/plain": [
       "<AxesSubplot:xlabel='Customer_Segment,Product_Category'>"
      ]
     },
     "execution_count": 160,
     "metadata": {},
     "output_type": "execute_result"
    },
    {
     "data": {
      "image/png": "[encoded data removed]",
      "text/plain": [
       "<Figure size 432x288 with 1 Axes>"
      ]
     },
     "metadata": {
      "needs_background": "light"
     },
     "output_type": "display_data"
    }
   ],
   "source": [
    "prdtcs_quantity_cstmsgm.plot.bar()"
   ]
  },
  {
   "cell_type": "markdown",
   "id": "6eb4f75e",
   "metadata": {},
   "source": [
    "#### In the Product Category, 'Office Supplies' had the highest order quantity in each customer segment. "
   ]
  },
  {
   "cell_type": "code",
   "execution_count": null,
   "id": "e0dc841b",
   "metadata": {},
   "outputs": [],
   "source": []
  }
 ],
 "metadata": {
  "kernelspec": {
   "display_name": "Python 3 (ipykernel)",
   "language": "python",
   "name": "python3"
  },
  "language_info": {
   "codemirror_mode": {
    "name": "ipython",
    "version": 3
   },
   "file_extension": ".py",
   "mimetype": "text/x-python",
   "name": "python",
   "nbconvert_exporter": "python",
   "pygments_lexer": "ipython3",
   "version": "3.9.7"
  }
 },
 "nbformat": 4,
 "nbformat_minor": 5
}
