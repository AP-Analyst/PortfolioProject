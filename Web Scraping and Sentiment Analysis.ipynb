{
 "cells": [
  {
   "cell_type": "markdown",
   "id": "df32f7cf",
   "metadata": {},
   "source": [
    "<h2> Web Scraping and Sentiment Analysis Exercise </h2>"
   ]
  },
  {
   "cell_type": "markdown",
   "id": "84af6acf",
   "metadata": {},
   "source": [
    "Getting the general sentiment on ten reviews of Supergoop's 'PLAY Everyday Lotion SPF 50 with Sunflower Extract' using web scrapping and sentiment analysis."
   ]
  },
  {
   "cell_type": "markdown",
   "id": "67053a6b",
   "metadata": {},
   "source": [
    "<h3> IMPORT PACKAGES </h3>"
   ]
  },
  {
   "cell_type": "code",
   "execution_count": 84,
   "id": "b44bfa34",
   "metadata": {},
   "outputs": [],
   "source": [
    "#Import web scrapping packages\n",
    "from selenium import webdriver\n",
    "from selenium.webdriver.chrome.service import Service\n",
    "from webdriver_manager.chrome import ChromeDriverManager\n",
    "from selenium.webdriver.common.by import By\n",
    "from bs4 import BeautifulSoup\n",
    "\n",
    "#Import sentiment analysis packages\n",
    "import torch\n",
    "from transformers import AutoTokenizer, AutoModelForSequenceClassification\n",
    "\n",
    "#Import data manipultion packages\n",
    "import pandas as pd\n",
    "import numpy as np\n",
    "\n",
    "#Import data visualization package\n",
    "import matplotlib.pyplot as plt\n",
    "%matplotlib inline\n",
    "plt.style.use('ggplot')"
   ]
  },
  {
   "cell_type": "markdown",
   "id": "9ce767a5",
   "metadata": {},
   "source": [
    "<h3> LOAD IN WEBSITE & REVIEWS </h3>"
   ]
  },
  {
   "cell_type": "code",
   "execution_count": null,
   "id": "be70721f",
   "metadata": {
    "scrolled": true
   },
   "outputs": [],
   "source": [
    "url = 'https://supergoop.com/products/everyday-sunscreen#wO6jD3l9feVXnFDksoI7sj' \n",
    "driver = webdriver.Chrome(service=Service(ChromeDriverManager().install()))\n",
    "driver.get(url)\n",
    "\n",
    "soup = BeautifulSoup(driver.page_source, 'html.parser')\n",
    "review_element = soup.find_all('span', class_='ehqzmla3 e12ke1wp6 css-126kb4n e1nqke5h3')\n",
    "driver.quit()"
   ]
  },
  {
   "cell_type": "code",
   "execution_count": 96,
   "id": "f96af153",
   "metadata": {},
   "outputs": [
    {
     "data": {
      "text/plain": [
       "['I buy the biggest size every summer with the pump. We live by the beach band it’s a must have. No one has been sunburned and it’s so easy to put on.',\n",
       " 'We took it to Cancun in our recent family vacation. The family love it. It is not greasy. So hydrating to the skin. Re-apply every 2 hours. Definitely repurchase this again in our next vacation.',\n",
       " 'Nice consistency…doesn’t leave a white cast.',\n",
       " \"I practice yoga outside, swim in an outdoor pool and occasionally, when weather permits, in open water. My skin is also sensitive to manufactured products, so I go as natural as possible while trying to stay as protected as possible. I've tried many, many water-resistant sunblocks and Supergoop!'s Play Everyday one goes on smoothly, with \",\n",
       " 'I never go out of my house without this on. I love the way it soaks into my skin and I love the SPF coverage. I always have two or three of these on hand.',\n",
       " 'I buy the biggest size every summer with the pump. We live by the beach band it’s a must have. No one has been sunburned and it’s so easy to put on.',\n",
       " 'We took it to Cancun in our recent family vacation. The family love it. It is not greasy. So hydrating to the skin. Re-apply every 2 hours. Definitely repurchase this again in our next vacation.',\n",
       " 'Nice consistency…doesn’t leave a white cast.',\n",
       " \"I practice yoga outside, swim in an outdoor pool and occasionally, when weather permits, in open water. My skin is also sensitive to manufactured products, so I go as natural as possible while trying to stay as protected as possible. I've tried many, many water-resistant sunblocks and Supergoop!'s Play Everyday one goes on smoothly, with \",\n",
       " 'I never go out of my house without this on. I love the way it soaks into my skin and I love the SPF coverage. I always have two or three of these on hand.']"
      ]
     },
     "execution_count": 96,
     "metadata": {},
     "output_type": "execute_result"
    }
   ],
   "source": [
    "reviews = [element.text for element in review_element]\n",
    "\n",
    "reviews"
   ]
  },
  {
   "cell_type": "markdown",
   "id": "cb0d517b",
   "metadata": {},
   "source": [
    "<h3> INSTANTIATE NLP MODEL </h3>"
   ]
  },
  {
   "cell_type": "code",
   "execution_count": 97,
   "id": "627ee137",
   "metadata": {
    "scrolled": true
   },
   "outputs": [],
   "source": [
    "tokenizer = AutoTokenizer.from_pretrained('nlptown/bert-base-multilingual-uncased-sentiment')\n",
    "\n",
    "model = AutoModelForSequenceClassification.from_pretrained('nlptown/bert-base-multilingual-uncased-sentiment')"
   ]
  },
  {
   "cell_type": "markdown",
   "id": "2b70d12e",
   "metadata": {},
   "source": [
    "<h3> ENCODE & DETERMINE SENTIMENT </h3>"
   ]
  },
  {
   "cell_type": "code",
   "execution_count": 99,
   "id": "cd865d94",
   "metadata": {},
   "outputs": [
    {
     "data": {
      "text/plain": [
       "tensor([[  101, 10372, 20058, 10127, 39854, 10110,   151, 11008, 44909, 55667,\n",
       "         10163, 10197, 10114, 36053,   119,   102]])"
      ]
     },
     "execution_count": 99,
     "metadata": {},
     "output_type": "execute_result"
    }
   ],
   "source": [
    "tokens = tokenizer.encode('This product is amazing and I would recommend it to everyone.', return_tensors='pt')\n",
    "\n",
    "tokens"
   ]
  },
  {
   "cell_type": "code",
   "execution_count": 100,
   "id": "dabcfe78",
   "metadata": {},
   "outputs": [
    {
     "data": {
      "text/plain": [
       "'[CLS] this product is amazing and i would recommend it to everyone. [SEP]'"
      ]
     },
     "execution_count": 100,
     "metadata": {},
     "output_type": "execute_result"
    }
   ],
   "source": [
    "tokenizer.decode(tokens[0])"
   ]
  },
  {
   "cell_type": "code",
   "execution_count": 101,
   "id": "6f5c717b",
   "metadata": {},
   "outputs": [
    {
     "data": {
      "text/plain": [
       "SequenceClassifierOutput(loss=None, logits=tensor([[-2.6862, -2.9182, -0.7802,  1.8384,  3.6056]],\n",
       "       grad_fn=<AddmmBackward0>), hidden_states=None, attentions=None)"
      ]
     },
     "execution_count": 101,
     "metadata": {},
     "output_type": "execute_result"
    }
   ],
   "source": [
    "result = model(tokens)\n",
    "\n",
    "result"
   ]
  },
  {
   "cell_type": "code",
   "execution_count": 102,
   "id": "afd93f7e",
   "metadata": {},
   "outputs": [
    {
     "data": {
      "text/plain": [
       "tensor([[-2.6862, -2.9182, -0.7802,  1.8384,  3.6056]],\n",
       "       grad_fn=<AddmmBackward0>)"
      ]
     },
     "execution_count": 102,
     "metadata": {},
     "output_type": "execute_result"
    }
   ],
   "source": [
    "result.logits"
   ]
  },
  {
   "cell_type": "code",
   "execution_count": 31,
   "id": "08683eef",
   "metadata": {},
   "outputs": [
    {
     "data": {
      "text/plain": [
       "5"
      ]
     },
     "execution_count": 31,
     "metadata": {},
     "output_type": "execute_result"
    }
   ],
   "source": [
    "int(torch.argmax(result.logits))+1"
   ]
  },
  {
   "cell_type": "markdown",
   "id": "4efa037c",
   "metadata": {},
   "source": [
    "<h3> LOAD REVIEWS INTO DATAFRAME & SCORE </h3>"
   ]
  },
  {
   "cell_type": "code",
   "execution_count": 103,
   "id": "72a98657",
   "metadata": {},
   "outputs": [
    {
     "data": {
      "text/html": [
       "<div>\n",
       "<style scoped>\n",
       "    .dataframe tbody tr th:only-of-type {\n",
       "        vertical-align: middle;\n",
       "    }\n",
       "\n",
       "    .dataframe tbody tr th {\n",
       "        vertical-align: top;\n",
       "    }\n",
       "\n",
       "    .dataframe thead th {\n",
       "        text-align: right;\n",
       "    }\n",
       "</style>\n",
       "<table border=\"1\" class=\"dataframe\">\n",
       "  <thead>\n",
       "    <tr style=\"text-align: right;\">\n",
       "      <th></th>\n",
       "      <th>reviews</th>\n",
       "    </tr>\n",
       "  </thead>\n",
       "  <tbody>\n",
       "    <tr>\n",
       "      <th>0</th>\n",
       "      <td>I buy the biggest size every summer with the p...</td>\n",
       "    </tr>\n",
       "    <tr>\n",
       "      <th>1</th>\n",
       "      <td>We took it to Cancun in our recent family vaca...</td>\n",
       "    </tr>\n",
       "    <tr>\n",
       "      <th>2</th>\n",
       "      <td>Nice consistency…doesn’t leave a white cast.</td>\n",
       "    </tr>\n",
       "    <tr>\n",
       "      <th>3</th>\n",
       "      <td>I practice yoga outside, swim in an outdoor po...</td>\n",
       "    </tr>\n",
       "    <tr>\n",
       "      <th>4</th>\n",
       "      <td>I never go out of my house without this on. I ...</td>\n",
       "    </tr>\n",
       "    <tr>\n",
       "      <th>5</th>\n",
       "      <td>I buy the biggest size every summer with the p...</td>\n",
       "    </tr>\n",
       "    <tr>\n",
       "      <th>6</th>\n",
       "      <td>We took it to Cancun in our recent family vaca...</td>\n",
       "    </tr>\n",
       "    <tr>\n",
       "      <th>7</th>\n",
       "      <td>Nice consistency…doesn’t leave a white cast.</td>\n",
       "    </tr>\n",
       "    <tr>\n",
       "      <th>8</th>\n",
       "      <td>I practice yoga outside, swim in an outdoor po...</td>\n",
       "    </tr>\n",
       "    <tr>\n",
       "      <th>9</th>\n",
       "      <td>I never go out of my house without this on. I ...</td>\n",
       "    </tr>\n",
       "  </tbody>\n",
       "</table>\n",
       "</div>"
      ],
      "text/plain": [
       "                                             reviews\n",
       "0  I buy the biggest size every summer with the p...\n",
       "1  We took it to Cancun in our recent family vaca...\n",
       "2       Nice consistency…doesn’t leave a white cast.\n",
       "3  I practice yoga outside, swim in an outdoor po...\n",
       "4  I never go out of my house without this on. I ...\n",
       "5  I buy the biggest size every summer with the p...\n",
       "6  We took it to Cancun in our recent family vaca...\n",
       "7       Nice consistency…doesn’t leave a white cast.\n",
       "8  I practice yoga outside, swim in an outdoor po...\n",
       "9  I never go out of my house without this on. I ..."
      ]
     },
     "execution_count": 103,
     "metadata": {},
     "output_type": "execute_result"
    }
   ],
   "source": [
    "reviews_df = pd.DataFrame(np.array(reviews), columns=['reviews'])\n",
    "\n",
    "reviews_df"
   ]
  },
  {
   "cell_type": "code",
   "execution_count": 104,
   "id": "3ef6d5ef",
   "metadata": {},
   "outputs": [
    {
     "data": {
      "text/plain": [
       "'I buy the biggest size every summer with the pump. We live by the beach band it’s a must have. No one has been sunburned and it’s so easy to put on.'"
      ]
     },
     "execution_count": 104,
     "metadata": {},
     "output_type": "execute_result"
    }
   ],
   "source": [
    "reviews_df['reviews'][0]"
   ]
  },
  {
   "cell_type": "code",
   "execution_count": 105,
   "id": "84b6da1c",
   "metadata": {},
   "outputs": [],
   "source": [
    "def sentiment(reviews):\n",
    "    tokens = tokenizer.encode(reviews, return_tensors='pt')\n",
    "    result = model(tokens)\n",
    "    return int(torch.argmax(result.logits))+1\n",
    "    "
   ]
  },
  {
   "cell_type": "code",
   "execution_count": 106,
   "id": "e06b073c",
   "metadata": {},
   "outputs": [
    {
     "data": {
      "text/plain": [
       "5"
      ]
     },
     "execution_count": 106,
     "metadata": {},
     "output_type": "execute_result"
    }
   ],
   "source": [
    "sentiment(reviews_df['reviews'][0])"
   ]
  },
  {
   "cell_type": "code",
   "execution_count": 107,
   "id": "42e55cc7",
   "metadata": {},
   "outputs": [],
   "source": [
    "reviews_df['sentiment'] = reviews_df['reviews'].apply(lambda x: sentiment(x[:512]))"
   ]
  },
  {
   "cell_type": "code",
   "execution_count": 108,
   "id": "58bdb75d",
   "metadata": {},
   "outputs": [
    {
     "data": {
      "text/html": [
       "<div>\n",
       "<style scoped>\n",
       "    .dataframe tbody tr th:only-of-type {\n",
       "        vertical-align: middle;\n",
       "    }\n",
       "\n",
       "    .dataframe tbody tr th {\n",
       "        vertical-align: top;\n",
       "    }\n",
       "\n",
       "    .dataframe thead th {\n",
       "        text-align: right;\n",
       "    }\n",
       "</style>\n",
       "<table border=\"1\" class=\"dataframe\">\n",
       "  <thead>\n",
       "    <tr style=\"text-align: right;\">\n",
       "      <th></th>\n",
       "      <th>reviews</th>\n",
       "      <th>sentiment</th>\n",
       "    </tr>\n",
       "  </thead>\n",
       "  <tbody>\n",
       "    <tr>\n",
       "      <th>0</th>\n",
       "      <td>I buy the biggest size every summer with the p...</td>\n",
       "      <td>5</td>\n",
       "    </tr>\n",
       "    <tr>\n",
       "      <th>1</th>\n",
       "      <td>We took it to Cancun in our recent family vaca...</td>\n",
       "      <td>5</td>\n",
       "    </tr>\n",
       "    <tr>\n",
       "      <th>2</th>\n",
       "      <td>Nice consistency…doesn’t leave a white cast.</td>\n",
       "      <td>4</td>\n",
       "    </tr>\n",
       "    <tr>\n",
       "      <th>3</th>\n",
       "      <td>I practice yoga outside, swim in an outdoor po...</td>\n",
       "      <td>5</td>\n",
       "    </tr>\n",
       "    <tr>\n",
       "      <th>4</th>\n",
       "      <td>I never go out of my house without this on. I ...</td>\n",
       "      <td>5</td>\n",
       "    </tr>\n",
       "    <tr>\n",
       "      <th>5</th>\n",
       "      <td>I buy the biggest size every summer with the p...</td>\n",
       "      <td>5</td>\n",
       "    </tr>\n",
       "    <tr>\n",
       "      <th>6</th>\n",
       "      <td>We took it to Cancun in our recent family vaca...</td>\n",
       "      <td>5</td>\n",
       "    </tr>\n",
       "    <tr>\n",
       "      <th>7</th>\n",
       "      <td>Nice consistency…doesn’t leave a white cast.</td>\n",
       "      <td>4</td>\n",
       "    </tr>\n",
       "    <tr>\n",
       "      <th>8</th>\n",
       "      <td>I practice yoga outside, swim in an outdoor po...</td>\n",
       "      <td>5</td>\n",
       "    </tr>\n",
       "    <tr>\n",
       "      <th>9</th>\n",
       "      <td>I never go out of my house without this on. I ...</td>\n",
       "      <td>5</td>\n",
       "    </tr>\n",
       "  </tbody>\n",
       "</table>\n",
       "</div>"
      ],
      "text/plain": [
       "                                             reviews  sentiment\n",
       "0  I buy the biggest size every summer with the p...          5\n",
       "1  We took it to Cancun in our recent family vaca...          5\n",
       "2       Nice consistency…doesn’t leave a white cast.          4\n",
       "3  I practice yoga outside, swim in an outdoor po...          5\n",
       "4  I never go out of my house without this on. I ...          5\n",
       "5  I buy the biggest size every summer with the p...          5\n",
       "6  We took it to Cancun in our recent family vaca...          5\n",
       "7       Nice consistency…doesn’t leave a white cast.          4\n",
       "8  I practice yoga outside, swim in an outdoor po...          5\n",
       "9  I never go out of my house without this on. I ...          5"
      ]
     },
     "execution_count": 108,
     "metadata": {},
     "output_type": "execute_result"
    }
   ],
   "source": [
    "reviews_df"
   ]
  },
  {
   "cell_type": "markdown",
   "id": "51632890",
   "metadata": {},
   "source": [
    "Reviews are scored from 0 to 5, ordinally. \n",
    "The number '0' correlates to an extremely negative sentiment while \n",
    "the number '5' correlates to an extremely positive sentiment."
   ]
  },
  {
   "cell_type": "code",
   "execution_count": 109,
   "id": "79b43e3e",
   "metadata": {},
   "outputs": [
    {
     "data": {
      "text/html": [
       "<div>\n",
       "<style scoped>\n",
       "    .dataframe tbody tr th:only-of-type {\n",
       "        vertical-align: middle;\n",
       "    }\n",
       "\n",
       "    .dataframe tbody tr th {\n",
       "        vertical-align: top;\n",
       "    }\n",
       "\n",
       "    .dataframe thead th {\n",
       "        text-align: right;\n",
       "    }\n",
       "</style>\n",
       "<table border=\"1\" class=\"dataframe\">\n",
       "  <thead>\n",
       "    <tr style=\"text-align: right;\">\n",
       "      <th></th>\n",
       "      <th>reviews</th>\n",
       "    </tr>\n",
       "    <tr>\n",
       "      <th>sentiment</th>\n",
       "      <th></th>\n",
       "    </tr>\n",
       "  </thead>\n",
       "  <tbody>\n",
       "    <tr>\n",
       "      <th>4</th>\n",
       "      <td>2</td>\n",
       "    </tr>\n",
       "    <tr>\n",
       "      <th>5</th>\n",
       "      <td>8</td>\n",
       "    </tr>\n",
       "  </tbody>\n",
       "</table>\n",
       "</div>"
      ],
      "text/plain": [
       "           reviews\n",
       "sentiment         \n",
       "4                2\n",
       "5                8"
      ]
     },
     "execution_count": 109,
     "metadata": {},
     "output_type": "execute_result"
    }
   ],
   "source": [
    "sentiment_count = reviews_df.groupby(['sentiment']).count()\n",
    "\n",
    "sentiment_count"
   ]
  },
  {
   "cell_type": "code",
   "execution_count": 110,
   "id": "05062f4f",
   "metadata": {},
   "outputs": [
    {
     "data": {
      "text/plain": [
       "<AxesSubplot:xlabel='sentiment'>"
      ]
     },
     "execution_count": 110,
     "metadata": {},
     "output_type": "execute_result"
    },
    {
     "data": {
      "image/png": "[encoded data removed]",
      "text/plain": [
       "<Figure size 432x288 with 1 Axes>"
      ]
     },
     "metadata": {},
     "output_type": "display_data"
    }
   ],
   "source": [
    "sentiment_count.plot(kind='bar', legend=True)"
   ]
  },
  {
   "cell_type": "code",
   "execution_count": null,
   "id": "918cbb83",
   "metadata": {},
   "outputs": [],
   "source": []
  }
 ],
 "metadata": {
  "kernelspec": {
   "display_name": "Python 3 (ipykernel)",
   "language": "python",
   "name": "python3"
  },
  "language_info": {
   "codemirror_mode": {
    "name": "ipython",
    "version": 3
   },
   "file_extension": ".py",
   "mimetype": "text/x-python",
   "name": "python",
   "nbconvert_exporter": "python",
   "pygments_lexer": "ipython3",
   "version": "3.9.7"
  }
 },
 "nbformat": 4,
 "nbformat_minor": 5
}
